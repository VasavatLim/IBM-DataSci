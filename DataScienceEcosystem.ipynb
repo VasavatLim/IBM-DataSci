{
 "cells": [
  {
   "cell_type": "markdown",
   "id": "44851726-37d3-452c-b9ae-6672d5a16335",
   "metadata": {},
   "source": [
    "# Data Science Tools and Ecosystem"
   ]
  },
  {
   "cell_type": "markdown",
   "id": "b91c3651-8516-479d-826b-687a1ce59b1f",
   "metadata": {},
   "source": [
    "In this notebook, Data Science Tools and Ecosystem are summarized."
   ]
  },
  {
   "cell_type": "markdown",
   "id": "016bd370-ace9-4bfd-85c7-9c6563a23e31",
   "metadata": {},
   "source": [
    "**Objectives:**\n",
    "* List popular languages for Data Science\n",
    "* List commonly used libraries for Data Science\n",
    "* Evaluate simple arithmetic expressions in Python\n",
    "* Convert minutes to hours in Python"
   ]
  },
  {
   "cell_type": "markdown",
   "id": "881788a4-203e-4684-a080-1b572a321de9",
   "metadata": {},
   "source": [
    "Some of the popular languages that Data Scientists use are:\n",
    "1. Python\n",
    "2. SQL\n",
    "3. R"
   ]
  },
  {
   "cell_type": "markdown",
   "id": "ab635fe8-394d-4885-b3b1-8875376eaec3",
   "metadata": {},
   "source": [
    "Some of the commonly used libraries used by Data Scientists include:\n",
    "1. Pandas (Data Manipulation)\n",
    "2. Scikit-learn (Machine Learning)\n",
    "3. Matplotlib & Seaborn (Data visualization)"
   ]
  },
  {
   "cell_type": "markdown",
   "id": "fd80f649-1ce7-4f87-936b-53e8262ee47e",
   "metadata": {},
   "source": [
    "\n",
    "\n",
    "| Data Sciene Tools |\n",
    "| ---|\n",
    "|Jupyter Notebook|\n",
    "|Visual Studio Code|\n",
    "|RStudio|"
   ]
  },
  {
   "cell_type": "markdown",
   "id": "63e50eb5-b72d-4f9f-bac3-e3451da680ec",
   "metadata": {},
   "source": [
    "### Below are a few examples of evaluating arithmetic expressions in Python"
   ]
  },
  {
   "cell_type": "code",
   "execution_count": 2,
   "id": "d5f7f7a4-974f-470d-acf0-937771cdbab7",
   "metadata": {},
   "outputs": [
    {
     "data": {
      "text/plain": [
       "17"
      ]
     },
     "execution_count": 2,
     "metadata": {},
     "output_type": "execute_result"
    }
   ],
   "source": [
    "# This a simple arithmetic expression to mutiply then add integers\n",
    "(3*4)+5"
   ]
  },
  {
   "cell_type": "code",
   "execution_count": 6,
   "id": "2907e1b8-d849-4c98-9682-b62316dc3e22",
   "metadata": {},
   "outputs": [
    {
     "name": "stdout",
     "output_type": "stream",
     "text": [
      "200 mins = 3.3333333333333335 hours\n"
     ]
    }
   ],
   "source": [
    "#  This will convert 200 minutes to hours by diving by 60\n",
    "x = 200\n",
    "hour = x/60\n",
    "print(\"200 mins =\",hour, \"hours\")"
   ]
  },
  {
   "cell_type": "markdown",
   "id": "f9ff6bc2-30ab-4235-9491-60929fed3279",
   "metadata": {},
   "source": [
    "## **Author**\n",
    "Vasavat Limnanthasin"
   ]
  },
  {
   "cell_type": "code",
   "execution_count": null,
   "id": "777c7a92-588b-4ac0-b8a5-6899030d945f",
   "metadata": {},
   "outputs": [],
   "source": []
  }
 ],
 "metadata": {
  "kernelspec": {
   "display_name": "Python 3 (ipykernel)",
   "language": "python",
   "name": "python3"
  },
  "language_info": {
   "codemirror_mode": {
    "name": "ipython",
    "version": 3
   },
   "file_extension": ".py",
   "mimetype": "text/x-python",
   "name": "python",
   "nbconvert_exporter": "python",
   "pygments_lexer": "ipython3",
   "version": "3.11.5"
  }
 },
 "nbformat": 4,
 "nbformat_minor": 5
}
